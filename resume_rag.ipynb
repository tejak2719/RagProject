{
 "cells": [
  {
   "cell_type": "code",
   "execution_count": 1,
   "id": "c477511f-b40c-4535-82f0-bb0be582f85b",
   "metadata": {},
   "outputs": [
    {
     "name": "stdout",
     "output_type": "stream",
     "text": [
      "Requirement already satisfied: langchain_ollama in /opt/anaconda3/lib/python3.13/site-packages (0.3.4)\n",
      "Requirement already satisfied: sentence-transformers in /opt/anaconda3/lib/python3.13/site-packages (5.0.0)\n",
      "Requirement already satisfied: faiss-cpu in /opt/anaconda3/lib/python3.13/site-packages (1.11.0)\n",
      "Requirement already satisfied: pypdf2 in /opt/anaconda3/lib/python3.13/site-packages (3.0.1)\n",
      "Requirement already satisfied: ollama<1.0.0,>=0.5.1 in /opt/anaconda3/lib/python3.13/site-packages (from langchain_ollama) (0.5.1)\n",
      "Requirement already satisfied: langchain-core<1.0.0,>=0.3.68 in /opt/anaconda3/lib/python3.13/site-packages (from langchain_ollama) (0.3.68)\n",
      "Requirement already satisfied: langsmith>=0.3.45 in /opt/anaconda3/lib/python3.13/site-packages (from langchain-core<1.0.0,>=0.3.68->langchain_ollama) (0.4.4)\n",
      "Requirement already satisfied: tenacity!=8.4.0,<10.0.0,>=8.1.0 in /opt/anaconda3/lib/python3.13/site-packages (from langchain-core<1.0.0,>=0.3.68->langchain_ollama) (9.0.0)\n",
      "Requirement already satisfied: jsonpatch<2.0,>=1.33 in /opt/anaconda3/lib/python3.13/site-packages (from langchain-core<1.0.0,>=0.3.68->langchain_ollama) (1.33)\n",
      "Requirement already satisfied: PyYAML>=5.3 in /opt/anaconda3/lib/python3.13/site-packages (from langchain-core<1.0.0,>=0.3.68->langchain_ollama) (6.0.2)\n",
      "Requirement already satisfied: packaging<25,>=23.2 in /opt/anaconda3/lib/python3.13/site-packages (from langchain-core<1.0.0,>=0.3.68->langchain_ollama) (24.2)\n",
      "Requirement already satisfied: typing-extensions>=4.7 in /opt/anaconda3/lib/python3.13/site-packages (from langchain-core<1.0.0,>=0.3.68->langchain_ollama) (4.12.2)\n",
      "Requirement already satisfied: pydantic>=2.7.4 in /opt/anaconda3/lib/python3.13/site-packages (from langchain-core<1.0.0,>=0.3.68->langchain_ollama) (2.10.3)\n",
      "Requirement already satisfied: jsonpointer>=1.9 in /opt/anaconda3/lib/python3.13/site-packages (from jsonpatch<2.0,>=1.33->langchain-core<1.0.0,>=0.3.68->langchain_ollama) (2.1)\n",
      "Requirement already satisfied: httpx>=0.27 in /opt/anaconda3/lib/python3.13/site-packages (from ollama<1.0.0,>=0.5.1->langchain_ollama) (0.28.1)\n",
      "Requirement already satisfied: transformers<5.0.0,>=4.41.0 in /opt/anaconda3/lib/python3.13/site-packages (from sentence-transformers) (4.53.1)\n",
      "Requirement already satisfied: tqdm in /opt/anaconda3/lib/python3.13/site-packages (from sentence-transformers) (4.67.1)\n",
      "Requirement already satisfied: torch>=1.11.0 in /opt/anaconda3/lib/python3.13/site-packages (from sentence-transformers) (2.7.1)\n",
      "Requirement already satisfied: scikit-learn in /opt/anaconda3/lib/python3.13/site-packages (from sentence-transformers) (1.6.1)\n",
      "Requirement already satisfied: scipy in /opt/anaconda3/lib/python3.13/site-packages (from sentence-transformers) (1.15.3)\n",
      "Requirement already satisfied: huggingface-hub>=0.20.0 in /opt/anaconda3/lib/python3.13/site-packages (from sentence-transformers) (0.33.2)\n",
      "Requirement already satisfied: Pillow in /opt/anaconda3/lib/python3.13/site-packages (from sentence-transformers) (11.1.0)\n",
      "Requirement already satisfied: filelock in /opt/anaconda3/lib/python3.13/site-packages (from transformers<5.0.0,>=4.41.0->sentence-transformers) (3.17.0)\n",
      "Requirement already satisfied: numpy>=1.17 in /opt/anaconda3/lib/python3.13/site-packages (from transformers<5.0.0,>=4.41.0->sentence-transformers) (2.1.3)\n",
      "Requirement already satisfied: regex!=2019.12.17 in /opt/anaconda3/lib/python3.13/site-packages (from transformers<5.0.0,>=4.41.0->sentence-transformers) (2024.11.6)\n",
      "Requirement already satisfied: requests in /opt/anaconda3/lib/python3.13/site-packages (from transformers<5.0.0,>=4.41.0->sentence-transformers) (2.32.3)\n",
      "Requirement already satisfied: tokenizers<0.22,>=0.21 in /opt/anaconda3/lib/python3.13/site-packages (from transformers<5.0.0,>=4.41.0->sentence-transformers) (0.21.2)\n",
      "Requirement already satisfied: safetensors>=0.4.3 in /opt/anaconda3/lib/python3.13/site-packages (from transformers<5.0.0,>=4.41.0->sentence-transformers) (0.5.3)\n",
      "Requirement already satisfied: fsspec>=2023.5.0 in /opt/anaconda3/lib/python3.13/site-packages (from huggingface-hub>=0.20.0->sentence-transformers) (2025.3.2)\n",
      "Requirement already satisfied: hf-xet<2.0.0,>=1.1.2 in /opt/anaconda3/lib/python3.13/site-packages (from huggingface-hub>=0.20.0->sentence-transformers) (1.1.5)\n",
      "Requirement already satisfied: anyio in /opt/anaconda3/lib/python3.13/site-packages (from httpx>=0.27->ollama<1.0.0,>=0.5.1->langchain_ollama) (4.7.0)\n",
      "Requirement already satisfied: certifi in /opt/anaconda3/lib/python3.13/site-packages (from httpx>=0.27->ollama<1.0.0,>=0.5.1->langchain_ollama) (2025.4.26)\n",
      "Requirement already satisfied: httpcore==1.* in /opt/anaconda3/lib/python3.13/site-packages (from httpx>=0.27->ollama<1.0.0,>=0.5.1->langchain_ollama) (1.0.9)\n",
      "Requirement already satisfied: idna in /opt/anaconda3/lib/python3.13/site-packages (from httpx>=0.27->ollama<1.0.0,>=0.5.1->langchain_ollama) (3.7)\n",
      "Requirement already satisfied: h11>=0.16 in /opt/anaconda3/lib/python3.13/site-packages (from httpcore==1.*->httpx>=0.27->ollama<1.0.0,>=0.5.1->langchain_ollama) (0.16.0)\n",
      "Requirement already satisfied: orjson<4.0.0,>=3.9.14 in /opt/anaconda3/lib/python3.13/site-packages (from langsmith>=0.3.45->langchain-core<1.0.0,>=0.3.68->langchain_ollama) (3.10.18)\n",
      "Requirement already satisfied: requests-toolbelt<2.0.0,>=1.0.0 in /opt/anaconda3/lib/python3.13/site-packages (from langsmith>=0.3.45->langchain-core<1.0.0,>=0.3.68->langchain_ollama) (1.0.0)\n",
      "Requirement already satisfied: zstandard<0.24.0,>=0.23.0 in /opt/anaconda3/lib/python3.13/site-packages (from langsmith>=0.3.45->langchain-core<1.0.0,>=0.3.68->langchain_ollama) (0.23.0)\n",
      "Requirement already satisfied: annotated-types>=0.6.0 in /opt/anaconda3/lib/python3.13/site-packages (from pydantic>=2.7.4->langchain-core<1.0.0,>=0.3.68->langchain_ollama) (0.6.0)\n",
      "Requirement already satisfied: pydantic-core==2.27.1 in /opt/anaconda3/lib/python3.13/site-packages (from pydantic>=2.7.4->langchain-core<1.0.0,>=0.3.68->langchain_ollama) (2.27.1)\n",
      "Requirement already satisfied: charset-normalizer<4,>=2 in /opt/anaconda3/lib/python3.13/site-packages (from requests->transformers<5.0.0,>=4.41.0->sentence-transformers) (3.3.2)\n",
      "Requirement already satisfied: urllib3<3,>=1.21.1 in /opt/anaconda3/lib/python3.13/site-packages (from requests->transformers<5.0.0,>=4.41.0->sentence-transformers) (2.3.0)\n",
      "Requirement already satisfied: setuptools in /opt/anaconda3/lib/python3.13/site-packages (from torch>=1.11.0->sentence-transformers) (72.1.0)\n",
      "Requirement already satisfied: sympy>=1.13.3 in /opt/anaconda3/lib/python3.13/site-packages (from torch>=1.11.0->sentence-transformers) (1.13.3)\n",
      "Requirement already satisfied: networkx in /opt/anaconda3/lib/python3.13/site-packages (from torch>=1.11.0->sentence-transformers) (3.4.2)\n",
      "Requirement already satisfied: jinja2 in /opt/anaconda3/lib/python3.13/site-packages (from torch>=1.11.0->sentence-transformers) (3.1.6)\n",
      "Requirement already satisfied: mpmath<1.4,>=1.1.0 in /opt/anaconda3/lib/python3.13/site-packages (from sympy>=1.13.3->torch>=1.11.0->sentence-transformers) (1.3.0)\n",
      "Requirement already satisfied: sniffio>=1.1 in /opt/anaconda3/lib/python3.13/site-packages (from anyio->httpx>=0.27->ollama<1.0.0,>=0.5.1->langchain_ollama) (1.3.0)\n",
      "Requirement already satisfied: MarkupSafe>=2.0 in /opt/anaconda3/lib/python3.13/site-packages (from jinja2->torch>=1.11.0->sentence-transformers) (3.0.2)\n",
      "Requirement already satisfied: joblib>=1.2.0 in /opt/anaconda3/lib/python3.13/site-packages (from scikit-learn->sentence-transformers) (1.4.2)\n",
      "Requirement already satisfied: threadpoolctl>=3.1.0 in /opt/anaconda3/lib/python3.13/site-packages (from scikit-learn->sentence-transformers) (3.5.0)\n"
     ]
    }
   ],
   "source": [
    "!pip install -U langchain_ollama sentence-transformers faiss-cpu pypdf2"
   ]
  },
  {
   "cell_type": "code",
   "execution_count": 1,
   "id": "55b99dba-03fd-425c-86fb-e1871dd57357",
   "metadata": {},
   "outputs": [
    {
     "ename": "SyntaxError",
     "evalue": "unterminated f-string literal (detected at line 40) (2180571708.py, line 40)",
     "output_type": "error",
     "traceback": [
      "\u001b[0;36m  Cell \u001b[0;32mIn[1], line 40\u001b[0;36m\u001b[0m\n\u001b[0;31m    prompt = f\"Resume detail:\\n{context}\u001b[0m\n\u001b[0m             ^\u001b[0m\n\u001b[0;31mSyntaxError\u001b[0m\u001b[0;31m:\u001b[0m unterminated f-string literal (detected at line 40)\n"
     ]
    }
   ],
   "source": [
    "from sentence_transformers import SentenceTransformer\n",
    "from langchain_ollama import ChatOllama\n",
    "from langchain.text_splitter import CharacterTextSplitter\n",
    "from PyPDF2 import PdfReader\n",
    "import numpy as np\n",
    "import faiss\n",
    "\n",
    "pdf_path = \"SaitejaReddyKonda_Resume.pdf\"\n",
    "reader = PdfReader(pdf_path)\n",
    "text = \"\\n\".join([page.extract_text() for page in reader.pages])\n",
    "\n",
    "splitter = CharacterTextSplitter(chunk_size=512, chunk_overlap=50)\n",
    "texts = splitter.split_text(text)\n",
    "\n",
    "embedding_model = SentenceTransformer('all-MiniLM-L6-v2')\n",
    "embeddings = [embedding_model.encode(chunk) for chunk in texts]\n",
    "\n",
    "dimension = len(embeddings[0])\n",
    "faiss_index = faiss.IndexFlatL2(dimension)\n",
    "faiss_index.add(np.array(embeddings).astype('float32'))\n",
    "\n",
    "def search(query, top_k=3):\n",
    "    query_vec = embedding_model.encode([query]).astype('float32')\n",
    "    distances, indices = faiss_index.search(query_vec, top_k)\n",
    "    return [texts[i] for i in indices[0]]\n",
    "\n",
    "llm = ChatOllama(model=\"qwen3:8b\")\n",
    "\n",
    "def ask_resume(question):\n",
    "    context = \"\\n\".join(search(question, top_k=3))\n",
    "    prompt = f\"Resume details:\\n{context}\\n\\nQ: {question}\\nA:\"\n",
    "    response = llm.invoke(prompt)\n",
    "    return response\n",
    "\n",
    "answer = ask_resume(\"List all the projects mentioned in this resume.\")\n",
    "print(answer)\n",
    "\n",
    "def ask_resume(question):\n",
    "    context: \"\\n\".join(search(question, top_k=3))\n",
    "    prompt = f\"Resume detail:\\n{context}"
   ]
  },
  {
   "cell_type": "code",
   "execution_count": 4,
   "id": "19a5582d-e5a3-4285-8e79-0353650e8d0a",
   "metadata": {},
   "outputs": [],
   "source": [
    "with open(\"rag_output.md\", \"w\", encoding=\"utf-8\") as f:\n",
    "    f.write(\"# RAG Output\\n\\n\")\n",
    "    f.write(\"**Question:** List all the projects mentioned in this resume.\\n\\n\")\n",
    "    f.write(f\"**Answer:** {answer.content}\\n\")"
   ]
  },
  {
   "cell_type": "code",
   "execution_count": null,
   "id": "ad734e33-0429-4e5a-87ba-be2d68386109",
   "metadata": {},
   "outputs": [],
   "source": []
  }
 ],
 "metadata": {
  "kernelspec": {
   "display_name": "Python 3 (ipykernel)",
   "language": "python",
   "name": "python3"
  },
  "language_info": {
   "codemirror_mode": {
    "name": "ipython",
    "version": 3
   },
   "file_extension": ".py",
   "mimetype": "text/x-python",
   "name": "python",
   "nbconvert_exporter": "python",
   "pygments_lexer": "ipython3",
   "version": "3.13.5"
  }
 },
 "nbformat": 4,
 "nbformat_minor": 5
}
